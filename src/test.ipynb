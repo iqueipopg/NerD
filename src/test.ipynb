{
 "cells": [
  {
   "cell_type": "code",
   "execution_count": 13,
   "metadata": {},
   "outputs": [
    {
     "name": "stdout",
     "output_type": "stream",
     "text": [
      "[[('The', 'O'), ('type', 'O'), ('locality', 'O'), ('is', 'O'), ('Kīlauea', 'B-LOC'), ('.', 'O')], [('Common', 'O'), ('components', 'O'), ('of', 'O'), ('the', 'O'), ('herb', 'O'), ('layer', 'O'), ('in', 'O'), ('bogs', 'O'), ('includes', 'O'), ('the', 'O'), ('carnivorous', 'O'), ('plants', 'O'), (':', 'O'), ('round-leaved', 'O'), ('sundew', 'O'), ('(', 'O'), ('\"', 'O'), ('Drosera', 'B-PLANT'), ('rotundifolia', 'I-PLANT'), ('\"', 'O'), (')', 'O'), (',', 'O'), ('and', 'O'), ('pitcher', 'O'), ('plant', 'O'), ('(', 'O'), ('\"', 'O'), ('Sarracenia', 'B-PLANT'), ('purpurea', 'I-PLANT'), ('\"', 'O'), (')', 'O'), ('.', 'O')]]\n"
     ]
    }
   ],
   "source": [
    "def load_clean_conll(filepath):\n",
    "    data = []\n",
    "    sentence = []\n",
    "    \n",
    "    with open(filepath, \"r\", encoding=\"utf-8\") as file:\n",
    "        for line in file:\n",
    "            line = line.strip()\n",
    "            if not line:  # Nueva frase\n",
    "                if sentence:\n",
    "                    data.append(sentence)\n",
    "                    sentence = []\n",
    "            else:\n",
    "                tokens = line.split()\n",
    "                word, ner_label = tokens[1:3]  # Solo tomamos las primeras 2 columnas\n",
    "                sentence.append((word, ner_label))\n",
    "    \n",
    "    return data  # Lista de frases con solo palabra y NER\n",
    "\n",
    "dataset = load_clean_conll(\"../data/train_en.tsv\")\n",
    "print(dataset[:2])  # Ver las primeras frases\n",
    "\n",
    "\n"
   ]
  }
 ],
 "metadata": {
  "kernelspec": {
   "display_name": "Python 3",
   "language": "python",
   "name": "python3"
  },
  "language_info": {
   "codemirror_mode": {
    "name": "ipython",
    "version": 3
   },
   "file_extension": ".py",
   "mimetype": "text/x-python",
   "name": "python",
   "nbconvert_exporter": "python",
   "pygments_lexer": "ipython3",
   "version": "3.12.9"
  }
 },
 "nbformat": 4,
 "nbformat_minor": 2
}
