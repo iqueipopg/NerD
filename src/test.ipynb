{
 "cells": [
  {
   "cell_type": "code",
   "execution_count": 27,
   "metadata": {},
   "outputs": [
    {
     "name": "stdout",
     "output_type": "stream",
     "text": [
      "Cantidad de frases con sentimiento 0 (Negativo): 4249\n",
      "Cantidad de frases con sentimiento 1 (Neutral): 3654\n",
      "Cantidad de frases con sentimiento 2 (Positivo): 8551\n",
      "Suma de frases:  16454\n"
     ]
    }
   ],
   "source": [
    "import pandas as pd\n",
    "\n",
    "# Cargar el archivo TSV\n",
    "with open(\"../data/test.tsv\", \"r\", encoding=\"utf-8\") as file:\n",
    "    lines = file.readlines()\n",
    "\n",
    "# Almacenar sentimientos por frase\n",
    "sentiment_counts = {0: 0, 1: 0, 2: 0}\n",
    "\n",
    "current_sentiment = None  # Variable para almacenar el sentimiento de la frase\n",
    "\n",
    "for line in lines:\n",
    "    line = line.strip()\n",
    "    \n",
    "    if line == \"\":  # Si es una línea vacía, se termina una frase\n",
    "        if current_sentiment is not None:\n",
    "            sentiment_counts[current_sentiment] += 1  # Contar solo una vez por frase\n",
    "        current_sentiment = None  # Reiniciar sentimiento para la nueva frase\n",
    "    else:\n",
    "        parts = line.split(\"\\t\")\n",
    "        if len(parts) == 3:\n",
    "            _, _, sentiment = parts\n",
    "            current_sentiment = int(sentiment)  # Guardar el sentimiento de la frase actual\n",
    "\n",
    "# Asegurar que la última frase también se cuenta\n",
    "if current_sentiment is not None:\n",
    "    sentiment_counts[current_sentiment] += 1\n",
    "\n",
    "# Imprimir los resultados\n",
    "print(f\"Cantidad de frases con sentimiento 0 (Negativo): {sentiment_counts[0]}\")\n",
    "print(f\"Cantidad de frases con sentimiento 1 (Neutral): {sentiment_counts[1]}\")\n",
    "print(f\"Cantidad de frases con sentimiento 2 (Positivo): {sentiment_counts[2]}\")\n",
    "\n",
    "print(\"Suma de frases: \", sum(sentiment_counts.values()))\n"
   ]
  }
 ],
 "metadata": {
  "kernelspec": {
   "display_name": "3.11.11",
   "language": "python",
   "name": "python3"
  },
  "language_info": {
   "codemirror_mode": {
    "name": "ipython",
    "version": 3
   },
   "file_extension": ".py",
   "mimetype": "text/x-python",
   "name": "python",
   "nbconvert_exporter": "python",
   "pygments_lexer": "ipython3",
   "version": "3.11.11"
  }
 },
 "nbformat": 4,
 "nbformat_minor": 2
}
