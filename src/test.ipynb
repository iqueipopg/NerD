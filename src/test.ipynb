{
 "cells": [
  {
   "cell_type": "code",
   "execution_count": 17,
   "metadata": {},
   "outputs": [
    {
     "name": "stdout",
     "output_type": "stream",
     "text": [
      "Cantidad de frases con sentimiento 0 (Negativo): 5000\n",
      "Cantidad de frases con sentimiento 1 (Neutral): 5000\n",
      "Cantidad de frases con sentimiento 2 (Positivo): 0\n",
      "Suma de frases:  10000\n"
     ]
    }
   ],
   "source": [
    "import pandas as pd\n",
    "\n",
    "# Cargar el archivo TSV\n",
    "with open(\"../data/test.tsv\", \"r\", encoding=\"utf-8\") as file:\n",
    "    lines = file.readlines()\n",
    "\n",
    "# Almacenar sentimientos por frase\n",
    "sentiment_counts = {0: 0, 1: 0, 2: 0}\n",
    "\n",
    "current_sentiment = None  # Variable para almacenar el sentimiento de la frase\n",
    "\n",
    "for line in lines:\n",
    "    line = line.strip()\n",
    "    \n",
    "    if line == \"\":  # Si es una línea vacía, se termina una frase\n",
    "        if current_sentiment is not None:\n",
    "            sentiment_counts[current_sentiment] += 1  # Contar solo una vez por frase\n",
    "        current_sentiment = None  # Reiniciar sentimiento para la nueva frase\n",
    "    else:\n",
    "        parts = line.split(\"\\t\")\n",
    "        if len(parts) == 3:\n",
    "            _, _, sentiment = parts\n",
    "            current_sentiment = int(sentiment)  # Guardar el sentimiento de la frase actual\n",
    "\n",
    "# Asegurar que la última frase también se cuenta\n",
    "if current_sentiment is not None:\n",
    "    sentiment_counts[current_sentiment] += 1\n",
    "\n",
    "# Imprimir los resultados\n",
    "print(f\"Cantidad de frases con sentimiento 0 (Negativo): {sentiment_counts[0]}\")\n",
    "print(f\"Cantidad de frases con sentimiento 1 (Neutral): {sentiment_counts[1]}\")\n",
    "print(f\"Cantidad de frases con sentimiento 2 (Positivo): {sentiment_counts[2]}\")\n",
    "\n",
    "print(\"Suma de frases: \", sum(sentiment_counts.values()))\n"
   ]
  },
  {
   "cell_type": "code",
   "execution_count": 28,
   "metadata": {},
   "outputs": [
    {
     "name": "stderr",
     "output_type": "stream",
     "text": [
      "c:\\Users\\Stealth\\AppData\\Local\\Programs\\Python\\Python312\\Lib\\site-packages\\tqdm\\auto.py:21: TqdmWarning: IProgress not found. Please update jupyter and ipywidgets. See https://ipywidgets.readthedocs.io/en/stable/user_install.html\n",
      "  from .autonotebook import tqdm as notebook_tqdm\n",
      "No model was supplied, defaulted to distilbert/distilbert-base-uncased-finetuned-sst-2-english and revision 714eb0f (https://huggingface.co/distilbert/distilbert-base-uncased-finetuned-sst-2-english).\n",
      "Using a pipeline without specifying a model name and revision in production is not recommended.\n",
      "c:\\Users\\Stealth\\AppData\\Local\\Programs\\Python\\Python312\\Lib\\site-packages\\huggingface_hub\\file_download.py:144: UserWarning: `huggingface_hub` cache-system uses symlinks by default to efficiently store duplicated files but your machine does not support them in C:\\Users\\Stealth\\.cache\\huggingface\\hub\\models--distilbert--distilbert-base-uncased-finetuned-sst-2-english. Caching files will still work but in a degraded version that might require more space on your disk. This warning can be disabled by setting the `HF_HUB_DISABLE_SYMLINKS_WARNING` environment variable. For more details, see https://huggingface.co/docs/huggingface_hub/how-to-cache#limitations.\n",
      "To support symlinks on Windows, you either need to activate Developer Mode or to run Python as an administrator. In order to activate developer mode, see this article: https://docs.microsoft.com/en-us/windows/apps/get-started/enable-your-device-for-development\n",
      "  warnings.warn(message)\n",
      "Xet Storage is enabled for this repo, but the 'hf_xet' package is not installed. Falling back to regular HTTP download. For better performance, install the package with: `pip install huggingface_hub[hf_xet]` or `pip install hf_xet`\n",
      "Device set to use cuda:0\n"
     ]
    }
   ],
   "source": [
    "from transformers import pipeline\n",
    "\n",
    "# Load the pretrained sentiment-analysis pipeline\n",
    "# By default, the pipeline uses a variant of BERT, called distilbert-base-uncased-finetuned-sst-2-english.\n",
    "sentiment_analyzer = pipeline(\"sentiment-analysis\")"
   ]
  },
  {
   "cell_type": "code",
   "execution_count": 14,
   "metadata": {},
   "outputs": [],
   "source": [
    "def extraer_balanceado(input_file, output_file, max_por_clase=5000):\n",
    "    with open(input_file, 'r', encoding='utf-8') as f:\n",
    "        lineas = f.readlines()\n",
    "\n",
    "    positivas = []\n",
    "    negativas = []\n",
    "    frase_actual = []\n",
    "    sa_actual = None  # Sentiment Analysis de la frase\n",
    "\n",
    "    for linea in lineas:\n",
    "        if linea.strip() == \"\":\n",
    "            if frase_actual and sa_actual is not None:\n",
    "                if sa_actual == '1' and len(positivas) < max_por_clase:\n",
    "                    positivas.append(frase_actual)\n",
    "                elif sa_actual == '0' and len(negativas) < max_por_clase:\n",
    "                    negativas.append(frase_actual)\n",
    "\n",
    "                # Cortamos si ya tenemos todo\n",
    "                if len(positivas) == max_por_clase and len(negativas) == max_por_clase:\n",
    "                    break\n",
    "\n",
    "            frase_actual = []\n",
    "            sa_actual = None\n",
    "        else:\n",
    "            frase_actual.append(linea)\n",
    "            partes = linea.strip().split('\\t')\n",
    "            if len(partes) == 3:\n",
    "                sa = partes[2]\n",
    "                if sa_actual is None:\n",
    "                    sa_actual = sa  # Se toma el SA del primer token\n",
    "\n",
    "    # Guardamos las frases seleccionadas\n",
    "    with open(output_file, 'w', encoding='utf-8') as f:\n",
    "        for frase in positivas + negativas:\n",
    "            f.writelines(frase)\n",
    "            f.write(\"\\n\")  # Línea vacía entre frases\n",
    "\n",
    "# Ejemplo de uso:\n",
    "extraer_balanceado(\"../data/output_test.tsv\", \"train_balanceado_10000.tsv\")\n"
   ]
  },
  {
   "cell_type": "code",
   "execution_count": 18,
   "metadata": {},
   "outputs": [
    {
     "name": "stdout",
     "output_type": "stream",
     "text": [
      "B-ANIM: 3914\n",
      "B-BIO: 45\n",
      "B-CEL: 672\n",
      "B-DIS: 3145\n",
      "B-EVE: 775\n",
      "B-FOOD: 2672\n",
      "B-INST: 95\n",
      "B-LOC: 18008\n",
      "B-MEDIA: 1821\n",
      "B-MYTH: 139\n",
      "B-ORG: 8542\n",
      "B-PER: 17473\n",
      "B-PLANT: 2501\n",
      "B-TIME: 726\n",
      "B-VEHI: 108\n",
      "I-ANIM: 1710\n",
      "I-BIO: 12\n",
      "I-CEL: 370\n",
      "I-DIS: 2092\n",
      "I-EVE: 1288\n",
      "I-FOOD: 973\n",
      "I-INST: 96\n",
      "I-LOC: 8005\n",
      "I-MEDIA: 2934\n",
      "I-MYTH: 31\n",
      "I-ORG: 11205\n",
      "I-PER: 18473\n",
      "I-PLANT: 857\n",
      "I-TIME: 556\n",
      "I-VEHI: 123\n",
      "O: 765213\n"
     ]
    }
   ],
   "source": [
    "from collections import Counter\n",
    "\n",
    "# Lista de etiquetas posibles\n",
    "etiquetas = ['B-ANIM', 'B-BIO', 'B-CEL', 'B-DIS', 'B-EVE', 'B-FOOD', 'B-INST', 'B-LOC', 'B-MEDIA', 'B-MYTH',\n",
    "             'B-ORG', 'B-PER', 'B-PLANT', 'B-TIME', 'B-VEHI',\n",
    "             'I-ANIM', 'I-BIO', 'I-CEL', 'I-DIS', 'I-EVE', 'I-FOOD', 'I-INST', 'I-LOC', 'I-MEDIA', 'I-MYTH',\n",
    "             'I-ORG', 'I-PER', 'I-PLANT', 'I-TIME', 'I-VEHI',\n",
    "             'O']\n",
    "\n",
    "# Inicializa el contador\n",
    "conteo_etiquetas = Counter({etiqueta: 0 for etiqueta in etiquetas})\n",
    "\n",
    "# Ruta del archivo TSV\n",
    "ruta_tsv = \"../data/train.tsv\"  # cambia esto por la ruta de tu archivo\n",
    "\n",
    "# Leer archivo línea por línea\n",
    "with open(ruta_tsv, 'r', encoding='utf-8') as f:\n",
    "    for linea in f:\n",
    "        partes = linea.strip().split('\\t')\n",
    "        if len(partes) >= 2:\n",
    "            etiqueta = partes[1]\n",
    "            if etiqueta in conteo_etiquetas:\n",
    "                conteo_etiquetas[etiqueta] += 1\n",
    "\n",
    "# Mostrar el conteo\n",
    "for etiqueta, cantidad in conteo_etiquetas.items():\n",
    "    print(f\"{etiqueta}: {cantidad}\")\n"
   ]
  }
 ],
 "metadata": {
  "kernelspec": {
   "display_name": "Python 3",
   "language": "python",
   "name": "python3"
  },
  "language_info": {
   "codemirror_mode": {
    "name": "ipython",
    "version": 3
   },
   "file_extension": ".py",
   "mimetype": "text/x-python",
   "name": "python",
   "nbconvert_exporter": "python",
   "pygments_lexer": "ipython3",
   "version": "3.12.9"
  }
 },
 "nbformat": 4,
 "nbformat_minor": 2
}
